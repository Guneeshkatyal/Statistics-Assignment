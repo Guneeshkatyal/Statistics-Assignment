{
  "nbformat": 4,
  "nbformat_minor": 0,
  "metadata": {
    "colab": {
      "provenance": []
    },
    "kernelspec": {
      "name": "python3",
      "display_name": "Python 3"
    },
    "language_info": {
      "name": "python"
    }
  },
  "cells": [
    {
      "cell_type": "code",
      "source": [
        "###Question 1: Explain the different types of data (qualitative and quantitative) and provide examples of each. Discuss nominal, ordinal, interval, and ratio scales.**\n",
        "\n",
        "#**Answer:**\n",
        "#Data is categorized into two main types:\n",
        "#1. **Qualitative Data (Categorical Data):** Non-numeric data representing categories or labels.\n",
        "#   - **Example:** Colors of cars (red, blue, black), types of cuisine (Italian, Chinese, Indian).\n",
        "#2. **Quantitative Data (Numerical Data):** Numeric values representing counts or measurements.\n",
        "#   - **Example:** Height of students, temperature in degrees Celsius.\n",
        "\n",
        "# **Measurement Scales:**\n",
        "# - **Nominal Scale:** Data that represents categories without a meaningful order.\n",
        "#   - Example: Gender (Male, Female), Eye Color (Blue, Brown, Green).\n",
        "# - **Ordinal Scale:** Data with a meaningful order but no fixed intervals between values.\n",
        "#   - Example: Movie ratings (Poor, Average, Good, Excellent).\n",
        "# - **Interval Scale:** Numeric data with equal intervals but no true zero.\n",
        "#   - Example: Temperature in Celsius or Fahrenheit.\n",
        "# - **Ratio Scale:** Numeric data with equal intervals and a true zero.\n",
        "#   - Example: Weight (0 kg means no weight), Height, Age.\n"
      ],
      "metadata": {
        "id": "xVthJnkaYKGi"
      },
      "execution_count": null,
      "outputs": []
    },
    {
      "cell_type": "code",
      "source": [
        "# **Question 2: What are the measures of central tendency, and when should you use each? Discuss the mean, median, and mode with examples and situations where each is appropriate.**\n",
        "\n",
        "# **Answer:**\n",
        "# The three measures of central tendency are:\n",
        "# 1. **Mean (Average):** The sum of all values divided by the total number of values.\n",
        "#    - **Example:** Exam scores: (85, 90, 95). Mean = (85+90+95)/3 = 90.\n",
        "#    - **When to use:** When data is normally distributed without outliers.\n",
        "# 2. **Median:** The middle value in an ordered dataset.\n",
        "#    - **Example:** Salaries: (30k, 35k, 40k, 50k, 100k). Median = 40k.\n",
        "#    - **When to use:** When data is skewed or contains outliers.\n",
        "# 3. **Mode:** The most frequently occurring value.\n",
        "#    - **Example:** Shoe sizes: (8, 9, 9, 10, 11). Mode = 9.\n",
        "#    - **When to use:** When identifying the most common category or value.\n"
      ],
      "metadata": {
        "id": "ccFgBitoYMLa"
      },
      "execution_count": null,
      "outputs": []
    },
    {
      "cell_type": "code",
      "source": [
        "\n",
        "# **Question 3: Explain the concept of dispersion. How do variance and standard deviation measure the spread of data?**\n",
        "\n",
        "# **Answer:**\n",
        "# Dispersion describes the spread of data around the central value.\n",
        "# - **Variance:** Measures the average squared deviations from the mean.\n",
        "#   - Formula: \\( \\sigma^2 = \\frac{\\sum (x - \\bar{x})^2}{n} \\)\n",
        "# - **Standard Deviation:** The square root of variance, showing spread in original units.\n",
        "#   - **Example:** If exam scores have a high standard deviation, it means students’ scores vary widely.\n",
        "#   - **Use:** When assessing consistency in datasets.\n"
      ],
      "metadata": {
        "id": "GMY2zJLLYTrn"
      },
      "execution_count": null,
      "outputs": []
    },
    {
      "cell_type": "code",
      "source": [
        "\n",
        "# **Question 4: What is a box plot, and what can it tell you about the distribution of data?**\n",
        "\n",
        "# **Answer:**\n",
        "# A **box plot** (or box-and-whisker plot) visualizes the distribution of data:\n",
        "# - **Components:** Minimum, Q1 (25th percentile), Median (Q2), Q3 (75th percentile), Maximum, and Outliers.\n",
        "# - **Use:** Identifies skewness, spread, and outliers.\n"
      ],
      "metadata": {
        "id": "inm0VabnYWts"
      },
      "execution_count": null,
      "outputs": []
    },
    {
      "cell_type": "code",
      "source": [
        "# **Question 5: Discuss the role of random sampling in making inferences about populations.**\n",
        "\n",
        "# **Answer:**\n",
        "# Random sampling ensures unbiased representation of a population:\n",
        "# - **Role:** Helps in making generalizations from sample data.\n",
        "# - **Example:** Conducting a survey on voter preferences using random samples ensures fair results.\n"
      ],
      "metadata": {
        "id": "WavypF1hYaH_"
      },
      "execution_count": null,
      "outputs": []
    },
    {
      "cell_type": "code",
      "source": [
        "# Question 6: Explain the concept of skewness and its types. How does skewness affect the interpretation of data?\n",
        "\n",
        "# Answer:\n",
        "# Skewness describes the asymmetry of data distribution:\n",
        "\n",
        "# Positive Skew: Long right tail, mean > median.\n",
        "\n",
        "# Negative Skew: Long left tail, mean < median.\n",
        "\n",
        "# Effect: Skewed data affects mean-based statistical interpretations."
      ],
      "metadata": {
        "id": "Y93DGgoPYb9e"
      },
      "execution_count": null,
      "outputs": []
    },
    {
      "cell_type": "code",
      "source": [
        "# **Question 7: What is the interquartile range (IQR), and how is it used to detect outliers?**\n",
        "\n",
        "# **Answer:**\n",
        "# IQR measures the middle 50% of the dataset:\n",
        "# - **Formula:** IQR = Q3 - Q1.\n",
        "# - **Use:** Identifies outliers using the rule: Outliers = values beyond (Q1 - 1.5*IQR) or (Q3 + 1.5*IQR).\n"
      ],
      "metadata": {
        "id": "c6v1EPmCYm8n"
      },
      "execution_count": null,
      "outputs": []
    },
    {
      "cell_type": "code",
      "source": [
        "# **Question 8: Discuss the conditions under which the binomial distribution is used.**\n",
        "\n",
        "# **Answer:**\n",
        "# A binomial distribution applies when:\n",
        "# - There are **n** independent trials.\n",
        "# - Each trial has **two possible outcomes** (success/failure).\n",
        "# - Probability of success (**p**) remains constant.\n",
        "# - **Example:** Tossing a coin 10 times and counting heads.\n"
      ],
      "metadata": {
        "id": "38I3gUqDYpTU"
      },
      "execution_count": null,
      "outputs": []
    },
    {
      "cell_type": "code",
      "source": [
        "# **Question 9: Explain the properties of the normal distribution and the empirical rule (68-95-99.7 rule).**\n",
        "\n",
        "# **Answer:**\n",
        "# A **normal distribution** is symmetric and bell-shaped:\n",
        "# - **Empirical Rule:**\n",
        "#   - 68% of values fall within **1 standard deviation**.\n",
        "#   - 95% within **2 standard deviations**.\n",
        "#   - 99.7% within **3 standard deviations**.\n",
        "# - **Example:** Human heights follow a normal distribution.\n"
      ],
      "metadata": {
        "id": "dWOsYcPIYrsE"
      },
      "execution_count": null,
      "outputs": []
    },
    {
      "cell_type": "code",
      "source": [
        "# **Question 10: Provide a real-life example of a Poisson process and calculate the probability for a specific event.**\n",
        "\n",
        "# **Answer:**\n",
        "# A Poisson process models rare events occurring over a fixed interval.\n",
        "# - **Example:** Number of customer calls per hour at a call center.\n",
        "# - **Formula:** \\( P(x) = \\frac{e^{-\\lambda} \\lambda^x}{x!} \\)\n",
        "#   - If calls arrive at a rate of 4 per hour, probability of exactly 2 calls: \\( P(2) = \\frac{e^{-4} 4^2}{2!} \\).\n"
      ],
      "metadata": {
        "id": "qqxvbgURYt_M"
      },
      "execution_count": null,
      "outputs": []
    },
    {
      "cell_type": "code",
      "source": [
        "# **Question 11: Explain what a random variable is and differentiate between discrete and continuous random variables.**\n",
        "\n",
        "# **Answer:**\n",
        "# A **random variable** represents possible numerical outcomes of a random process.\n",
        "# - **Discrete:** Countable outcomes (e.g., number of students in a class).\n",
        "# - **Continuous:** Infinite values within a range (e.g., weight of newborns).\n"
      ],
      "metadata": {
        "id": "TnkEIGnRYwPm"
      },
      "execution_count": null,
      "outputs": []
    },
    {
      "cell_type": "code",
      "execution_count": null,
      "metadata": {
        "id": "ogdmeTBkXfCJ"
      },
      "outputs": [],
      "source": [
        "# **Question 12: Provide an example dataset, calculate both covariance and correlation, and interpret the results.**\n",
        "\n",
        "# **Answer:**\n",
        "# Dataset:\n",
        "# X: [2, 4, 6, 8, 10]\n",
        "# Y: [1, 3, 5, 7, 9]\n",
        "\n",
        "# **Covariance Formula:** \\( Cov(X, Y) = \\frac{\\sum (X_i - \\bar{X})(Y_i - \\bar{Y})}{n} \\)\n",
        "\n",
        "# **Correlation Formula:** \\( r = \\frac{Cov(X,Y)}{\\sigma_X \\sigma_Y} \\)\n",
        "\n",
        "# - **Interpretation:** Correlation **r = 1** means a perfect positive relationship.\n"
      ]
    }
  ]
}