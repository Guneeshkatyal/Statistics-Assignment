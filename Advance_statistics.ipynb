{
  "nbformat": 4,
  "nbformat_minor": 0,
  "metadata": {
    "colab": {
      "provenance": [],
      "authorship_tag": "ABX9TyMVY4SH5sW3BoeOLDTeon/W",
      "include_colab_link": true
    },
    "kernelspec": {
      "name": "python3",
      "display_name": "Python 3"
    },
    "language_info": {
      "name": "python"
    }
  },
  "cells": [
    {
      "cell_type": "markdown",
      "metadata": {
        "id": "view-in-github",
        "colab_type": "text"
      },
      "source": [
        "<a href=\"https://colab.research.google.com/github/Guneeshkatyal/Statistics-Assignment/blob/main/Advance_statistics.ipynb\" target=\"_parent\"><img src=\"https://colab.research.google.com/assets/colab-badge.svg\" alt=\"Open In Colab\"/></a>"
      ]
    },
    {
      "cell_type": "code",
      "source": [
        "\n",
        "# **Question 1: Define the z-statistic and explain its relationship to the standard normal distribution. How is the z-statistic used in hypothesis testing?**\n",
        "\n",
        "# **Answer:**\n",
        "# The **z-statistic** (or z-score) measures how many standard deviations a data point is from the mean. It is calculated as:\n",
        "# \\[ z = \\frac{X - \\mu}{\\sigma} \\]\n",
        "# where \\( X \\) is the sample mean, \\( \\mu \\) is the population mean, and \\( \\sigma \\) is the standard deviation.\n",
        "\n",
        "# It follows the **standard normal distribution** (mean = 0, standard deviation = 1).\n",
        "\n",
        "# **Usage in Hypothesis Testing:**\n",
        "# - Used to determine if a sample mean significantly differs from a population mean.\n",
        "# - Compares test statistic to critical values or p-value threshold.\n"
      ],
      "metadata": {
        "id": "4LkrIrNOgvd-"
      },
      "execution_count": null,
      "outputs": []
    },
    {
      "cell_type": "code",
      "source": [
        "# Question 2: What is a p-value, and how is it used in hypothesis testing? What does it mean if the p-value is very small (e.g., 0.01)?**\n",
        "\n",
        "# **Answer:**\n",
        "# A **p-value** measures the probability of obtaining results at least as extreme as the observed data, assuming the null hypothesis is true.\n",
        "\n",
        "# - If **p-value ≤ α (significance level)**, reject the null hypothesis.\n",
        "# - If **p-value > α**, fail to reject the null hypothesis.\n",
        "# - A very small p-value (e.g., 0.01) suggests strong evidence against the null hypothesis.\n"
      ],
      "metadata": {
        "id": "6VokUonsg2J9"
      },
      "execution_count": null,
      "outputs": []
    },
    {
      "cell_type": "code",
      "source": [
        "# **Question 3: Compare and contrast the binomial and Bernoulli distributions.**\n",
        "\n",
        "# **Answer:**\n",
        "# - **Bernoulli Distribution:** A single trial with two possible outcomes (success/failure).\n",
        "# - **Binomial Distribution:** The sum of multiple independent Bernoulli trials.\n",
        "\n",
        "# Example:\n",
        "# - Bernoulli: Tossing a coin once.\n",
        "# - Binomial: Tossing a coin 10 times and counting heads.\n",
        "\n"
      ],
      "metadata": {
        "id": "NOhdk7Qmg9qn"
      },
      "execution_count": null,
      "outputs": []
    },
    {
      "cell_type": "code",
      "source": [
        "# **Question 4: Under what conditions is the binomial distribution used, and how does it relate to the Bernoulli distribution?**\n",
        "\n",
        "# **Answer:**\n",
        "# The binomial distribution is used when:\n",
        "# 1. There are **n independent trials**.\n",
        "# 2. Each trial has **two outcomes** (success/failure).\n",
        "# 3. Probability of success **p is constant**.\n",
        "\n",
        "# **Relation to Bernoulli:** A binomial distribution is the sum of multiple Bernoulli trials.\n",
        "\n"
      ],
      "metadata": {
        "id": "t6FKhWdVhC9x"
      },
      "execution_count": null,
      "outputs": []
    },
    {
      "cell_type": "code",
      "source": [
        "# **Question 5: What are the key properties of the Poisson distribution, and when is it appropriate to use this distribution?**\n",
        "\n",
        "# **Answer:**\n",
        "# **Poisson Distribution Properties:**\n",
        "# - Models rare events over time/space.\n",
        "# - Mean = Variance = λ.\n",
        "# - Independent occurrences.\n",
        "\n",
        "# **Usage:**\n",
        "# - Number of emails received per hour.\n",
        "# - Defects in a production line.\n",
        "\n"
      ],
      "metadata": {
        "id": "mSyX9YOYhG0x"
      },
      "execution_count": null,
      "outputs": []
    },
    {
      "cell_type": "code",
      "source": [
        "# **Question 6: Define the terms \"probability distribution\" and \"probability density function\" (PDF). How does a PDF differ from a probability mass function (PMF)?**\n",
        "\n",
        "# **Answer:**\n",
        "# - **Probability Distribution:** Describes the likelihood of different outcomes.\n",
        "# - **PDF (Probability Density Function):** Used for continuous data, where the area under the curve gives probabilities.\n",
        "# - **PMF (Probability Mass Function):** Used for discrete data, giving probabilities for exact values.\n"
      ],
      "metadata": {
        "id": "wsUWp5EOhKAt"
      },
      "execution_count": null,
      "outputs": []
    },
    {
      "cell_type": "code",
      "source": [
        "# **Question 7: Explain the Central Limit Theorem (CLT) with an example.**\n",
        "\n",
        "# **Answer:**\n",
        "# The **Central Limit Theorem (CLT)** states that the distribution of the sample mean approaches a normal distribution as sample size increases, regardless of the population distribution.\n",
        "\n",
        "# **Example:**\n",
        "# - Rolling a die many times and computing the mean of groups of 30 rolls. The distribution of these means will be approximately normal.\n"
      ],
      "metadata": {
        "id": "Ld4z6Bl-hNrO"
      },
      "execution_count": null,
      "outputs": []
    },
    {
      "cell_type": "code",
      "source": [
        "# **Question 8: Compare z-scores and t-scores. When should you use a z-score, and when should a t-score be applied instead?**\n",
        "\n",
        "# **Answer:**\n",
        "# - **Z-score:** Used when population standard deviation is known and sample size is large (n ≥ 30).\n",
        "# - **T-score:** Used when population standard deviation is unknown and sample size is small (n < 30).\n"
      ],
      "metadata": {
        "id": "48elv_IVhR6o"
      },
      "execution_count": null,
      "outputs": []
    },
    {
      "cell_type": "code",
      "source": [
        "# **Question 9: Given a sample mean of 105, a population mean of 100, a standard deviation of 15, and a sample size of 25, calculate the z-score and p-value. Based on a significance level of 0.05, do you reject or fail to reject the null hypothesis?**\n",
        "\n",
        "# **Answer:**\n",
        "# **Z-score formula:**\n",
        "# \\[ z = \\frac{\\bar{x} - \\mu}{\\sigma / \\sqrt{n}} \\]\n",
        "# \\[ z = \\frac{105 - 100}{15 / \\sqrt{25}} = \\frac{5}{3} = 1.67 \\]\n",
        "\n",
        "# **Python Code:**\n",
        "from scipy.stats import norm\n",
        "import numpy as np\n",
        "\n",
        "x_bar = 105\n",
        "mu = 100\n",
        "sigma = 15\n",
        "n = 25\n",
        "\n",
        "z_score = (x_bar - mu) / (sigma / np.sqrt(n))\n",
        "p_value = 1 - norm.cdf(z_score)\n",
        "print(f'Z-score: {z_score}, P-value: {p_value}')"
      ],
      "metadata": {
        "colab": {
          "base_uri": "https://localhost:8080/"
        },
        "id": "346AB5LwhZ_g",
        "outputId": "071cc46c-2d27-4f5c-9c4d-477e69a9eb3a"
      },
      "execution_count": 5,
      "outputs": [
        {
          "output_type": "stream",
          "name": "stdout",
          "text": [
            "Z-score: 1.6666666666666667, P-value: 0.047790352272814696\n"
          ]
        }
      ]
    },
    {
      "cell_type": "code",
      "execution_count": 6,
      "metadata": {
        "colab": {
          "base_uri": "https://localhost:8080/",
          "height": 508
        },
        "id": "V2j2x1KreGVD",
        "outputId": "0ec626db-0e8a-450c-cc2c-4577d20d6343"
      },
      "outputs": [
        {
          "output_type": "display_data",
          "data": {
            "text/plain": [
              "<Figure size 640x480 with 1 Axes>"
            ],
            "image/png": "[encoded data removed]"
          },
          "metadata": {}
        },
        {
          "output_type": "stream",
          "name": "stdout",
          "text": [
            "Expected Mean: 6.0, Expected Variance: 2.4000000000000004\n",
            "Simulated Mean: 6.027, Simulated Variance: 2.4342710000000003\n"
          ]
        }
      ],
      "source": [
        "\n",
        "# **Question 10: Simulate a binomial distribution with 10 trials and a probability of success of 0.6 using Python. Generate 1,000 samples and plot the distribution. What is the expected mean and variance?**\n",
        "\n",
        "# **Answer:**\n",
        "# - **Mean:** \\( np = 10 \\times 0.6 = 6 \\)\n",
        "# - **Variance:** \\( np(1-p) = 10 \\times 0.6 \\times 0.4 = 2.4 \\)\n",
        "\n",
        "# **Python Code:**\n",
        "import numpy as np\n",
        "import matplotlib.pyplot as plt\n",
        "from scipy.stats import binom\n",
        "\n",
        "n, p, size = 10, 0.6, 1000\n",
        "samples = np.random.binomial(n, p, size)\n",
        "\n",
        "plt.hist(samples, bins=range(12), density=True, alpha=0.6, color='g', edgecolor='black')\n",
        "plt.xlabel('Number of Successes')\n",
        "plt.ylabel('Probability')\n",
        "plt.title('Binomial Distribution Simulation')\n",
        "plt.show()\n",
        "\n",
        "mean = np.mean(samples)\n",
        "variance = np.var(samples)\n",
        "print(f'Expected Mean: {n*p}, Expected Variance: {n*p*(1-p)}')\n",
        "print(f'Simulated Mean: {mean}, Simulated Variance: {variance}')\n",
        "\n",
        "\n"
      ]
    },
    {
      "cell_type": "code",
      "source": [],
      "metadata": {
        "id": "wJ6p2oM0hg5s"
      },
      "execution_count": null,
      "outputs": []
    }
  ]
}